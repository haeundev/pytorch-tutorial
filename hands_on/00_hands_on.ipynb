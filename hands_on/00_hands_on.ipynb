{
 "cells": [
  {
   "cell_type": "code",
   "execution_count": 1,
   "outputs": [
    {
     "data": {
      "text/plain": "'2.0.0'"
     },
     "execution_count": 1,
     "metadata": {},
     "output_type": "execute_result"
    }
   ],
   "source": [
    "import numpy as np\n",
    "import pandas as pd\n",
    "import torch\n",
    "\n",
    "torch.__version__"
   ],
   "metadata": {
    "collapsed": false
   }
  },
  {
   "cell_type": "code",
   "execution_count": 5,
   "outputs": [
    {
     "name": "stdout",
     "output_type": "stream",
     "text": [
      "0\n",
      "torch.float32\n",
      "cpu\n",
      "3.1414999961853027\n"
     ]
    }
   ],
   "source": [
    "scalar = torch.tensor(3.1415)\n",
    "print(scalar.ndim)\n",
    "print(scalar.dtype)\n",
    "print(scalar.device)\n",
    "print(scalar.item())"
   ],
   "metadata": {
    "collapsed": false
   }
  },
  {
   "cell_type": "code",
   "execution_count": 9,
   "outputs": [
    {
     "name": "stdout",
     "output_type": "stream",
     "text": [
      "1\n",
      "torch.int64\n",
      "cpu\n",
      "torch.Size([4])\n"
     ]
    }
   ],
   "source": [
    "vector = torch.tensor([1, 2, 3, 4])\n",
    "print(vector.ndim)\n",
    "print(vector.dtype)\n",
    "print(vector.device)\n",
    "print(vector.shape)"
   ],
   "metadata": {
    "collapsed": false
   }
  },
  {
   "cell_type": "code",
   "execution_count": 10,
   "outputs": [
    {
     "name": "stdout",
     "output_type": "stream",
     "text": [
      "2\n",
      "torch.int64\n",
      "cpu\n",
      "torch.Size([2, 3])\n"
     ]
    }
   ],
   "source": [
    "MATRIX = torch.tensor([[1, 2, 3], [4, 5, 6]])\n",
    "print(MATRIX.ndim)\n",
    "print(MATRIX.dtype)\n",
    "print(MATRIX.device)\n",
    "print(MATRIX.shape)"
   ],
   "metadata": {
    "collapsed": false
   }
  }
 ],
 "metadata": {
  "kernelspec": {
   "display_name": "Python 3",
   "language": "python",
   "name": "python3"
  },
  "language_info": {
   "codemirror_mode": {
    "name": "ipython",
    "version": 2
   },
   "file_extension": ".py",
   "mimetype": "text/x-python",
   "name": "python",
   "nbconvert_exporter": "python",
   "pygments_lexer": "ipython2",
   "version": "2.7.6"
  }
 },
 "nbformat": 4,
 "nbformat_minor": 0
}
